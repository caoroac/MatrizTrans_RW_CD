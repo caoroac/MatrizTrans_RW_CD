{
 "cells": [
  {
   "cell_type": "markdown",
   "id": "99f8be18",
   "metadata": {},
   "source": [
    "En este programa se va a calcular las entradas de la matriz de transferencia\n",
    "$$\\mathbb{M}_N\\mathbb{M}_{N-1}\\cdots\\mathbb{M}_1$$\n",
    "Y cuya matriz $\\mathbb{M}$ esta dada por la multiplicación de las matrices \n",
    "$$\\mathbb{D}_j^{-1}\\mathbb{D}_{j-1}$$.\n",
    "La matriz $\\mathbb{D}$ está dada por\n",
    "$$\\mathbb{D}_j =\n",
    "\\left(\\begin{array}{cc}\n",
    "e^{i\\omega r_{*}(R_j)} & e^{-i\\omega r_{*}(R_j)}\\\\\n",
    "i\\omega e^{i\\omega r_{*}(R_j)} & -i\\omega e^{-i\\omega r_{*}(R_j)}\n",
    "\\end{array}\\right)+\\frac{A}{8r}\\mathscr{C}_{j}(r)\\left(\\begin{array}{cc}\n",
    "2re^{-2i\\omega r}E_{2}{(-2i\\omega R_j)}e^{i\\omega r_{*}(R_j)} & 2re^{2i\\omega R_j}E_{2}{(2i\\omega R_j)}e^{-i\\omega r_{*}(R_j)}\\\\\n",
    "-\\left[1+F(r)\\right]e^{i\\omega r_{*}(R_j)} & -\\left[1+\\overline{F}(r)\\right]e^{-i\\omega r_{*}(R_j)}\n",
    "\\end{array}\\right)    ,\n",
    "$$\n",
    "con $F(r):=1+2i\\omega r E_{2}{(-2i\\omega r)}e^{-2i\\omega r}$ y $\\mathscr{C}_j(r) := \\frac{2m_j}{r}$\n",
    "$$\\mathbb{D}_j^{-1}\\mathbb{D}_{j-1} = \n",
    "\\left(\\begin{array}{cc}\n",
    "1 & 0\\\\\n",
    "0 & 1\n",
    "\\end{array}\\right) + \n",
    "\\frac{A(m_j-m_{j-1})}{4i\\omega R_j^2}\n",
    "\\left(\\begin{array}{cc}\n",
    "1 & \\overline{F(r)}e^{-2i\\omega r_*(R_j)}\\\\\n",
    "-F(r)e^{2i\\omega r_*(R_j)} & -1\n",
    "\\end{array}\\right)    .\n",
    "$$\n",
    "\n",
    "Con la compacidad como forma recursiva\n",
    "$$\n",
    "C_j \\equiv \\frac{2m_j}{R_j} = 1 - \\frac{1}{(4\\alpha + 1)^2} \\frac{1}{1 - \\dfrac{R_{j-1}}{R_j}C_{j-1}}\n",
    "$$"
   ]
  },
  {
   "cell_type": "markdown",
   "id": "0417df31",
   "metadata": {},
   "source": [
    "Entonces la primer compacidad queda establecida como\n",
    "$$\n",
    "C_1 = 1 - \\frac{1}{(4\\alpha + 1)^2}=\\frac{8\\alpha(2\\alpha+1)}{(4\\alpha + 1)^2}.\n",
    "$$\n",
    "\n",
    "Entonces, fijar la masa es equivalente a fijar el radio\n",
    "$$\n",
    "m_1 = \\frac{R_1}{2} \\left(1 - \\frac{1}{(4\\alpha + 1)^2}\\right)\n",
    "$$\n",
    "Y si queremos radios equidistantes entonces $R_j - R_{j-1} = \\Delta R \\longrightarrow R_j = j\\Delta R$, además la matriz\n",
    "$$\n",
    "\\mathbb{M}_1 = \\mathbb{1}+\\frac{A C_1}{8i\\tilde{\\omega}}\n",
    "\\left(\\begin{array}{cc}\n",
    "1 & \\overline{F(\\Delta R)}e^{-2i\\tilde{\\omega} }\\\\\n",
    "-F(\\Delta R) e^{2i\\tilde{\\omega} } & -1\n",
    "\\end{array}\\right)    ,\n",
    "$$\n",
    "donde se define el parámetro adimensional $\\tilde{\\omega} \\equiv \\omega \\Delta R$\n",
    "\n",
    "Y con lo anterior se obtiene\n",
    "$$\n",
    "C_j \\equiv \\frac{2m_j}{R_j} = 1 - \\frac{1}{(4\\alpha + 1)^2} \\frac{1}{1 - \\dfrac{j-1}{j}C_{j-1}}\n",
    "$$"
   ]
  },
  {
   "cell_type": "code",
   "execution_count": 6,
   "id": "669b431e",
   "metadata": {},
   "outputs": [],
   "source": [
    "##Repositorios\n",
    "#Para calculos numéricos\n",
    "import numpy as np\n",
    "\n",
    "#Para gráficos\n",
    "from matplotlib import pyplot as plt\n",
    "\n",
    "#Algoritmos especiales para integrar\n",
    "from scipy.integrate import quad\n",
    "import scipy.special as special\n",
    "\n",
    "#Algoritmos especiales para cálculo complejo\n",
    "import mpmath\n",
    "mpmath.mp.prec = 100\n",
    "plt.rcParams['figure.figsize'] = [10, 8]\n",
    "\n",
    "## Para usar latex en las ecuaciones\n",
    "plt.rcParams['text.usetex'] = True\n"
   ]
  },
  {
   "cell_type": "markdown",
   "id": "fb531c17",
   "metadata": {},
   "source": [
    "Se definen algunas funciones especiales, por ejemplo la compacidad $C_1$ que es independiente del primer radio del cascarón $R_1$. Esta función también esta incluida en la función C_k en las próximas celdas."
   ]
  },
  {
   "cell_type": "code",
   "execution_count": 3,
   "id": "3370b925",
   "metadata": {},
   "outputs": [],
   "source": [
    "def C_1(a):\n",
    "    answ = 1 - 1/(4*a+1)**2\n",
    "    return answ\n",
    "\n",
    "#a = np.linspace(1e-8,1,100)\n",
    "#C1 = C_1(a)\n",
    "\n",
    "#plt.plot(a,C1,)"
   ]
  },
  {
   "cell_type": "markdown",
   "id": "f7d3732d",
   "metadata": {},
   "source": [
    "Se define la función de la compacidad en el limite, cuyo resultado es\n",
    "$$\n",
    "C_{\\infty} = 1 - \\frac{1}{4\\alpha + 1} \n",
    "$$"
   ]
  },
  {
   "cell_type": "code",
   "execution_count": 4,
   "id": "dd847536",
   "metadata": {},
   "outputs": [],
   "source": [
    "def C_infty(a):\n",
    "    answ = 1 - 1/(4*a+1)\n",
    "    return answ"
   ]
  },
  {
   "cell_type": "markdown",
   "id": "976b1029",
   "metadata": {},
   "source": [
    "Se define la compacidad para el cascarón k-ésimo tomando en cuenta cascarones radialmente equidistantes:\n",
    "$$\n",
    "C_k \\equiv \\frac{2m_k}{R_k} = 1 - \\frac{1}{(4\\alpha + 1)^2} \\frac{1}{1 - \\dfrac{k-1}{k}C_{k-1}}\n",
    "$$"
   ]
  },
  {
   "cell_type": "code",
   "execution_count": 7,
   "id": "08e795e4",
   "metadata": {},
   "outputs": [
    {
     "data": {
      "image/png": "[encoded data removed]",
      "text/plain": [
       "<Figure size 720x576 with 1 Axes>"
      ]
     },
     "metadata": {
      "needs_background": "light"
     },
     "output_type": "display_data"
    }
   ],
   "source": [
    "def C_k(a,k):\n",
    "    if k < 1:\n",
    "        return 0\n",
    "    tmp1 = 1 - ((k-1)/k)*C_k(a,k-1)\n",
    "    tmp2 = 1 - (1/(4*a+1)**2)/tmp1\n",
    "    return tmp2\n",
    "\n",
    "#MatCk = []        ## Arreglo que guarda tipo de datos de matplotlib\n",
    "a = np.linspace(1e-8,1,100)   ## este el el paremetro \\alpha\n",
    "\n",
    "### Siguiente algoritmo para guardar los Ck en el arreglo, esto variando el numero de cascarones\n",
    "num_cas = 1   # Numero de cascarones\n",
    "pas_cas = 1   # Paso de cascarones\n",
    "fig,ax = plt.subplots()\n",
    "for k in range(1,num_cas+1,pas_cas):\n",
    "    ax.plot(a,C_k(a,k))\n",
    "#    p_tmp = plt.plot(a,C_k(a,k))\n",
    "#    MatCk.append(p_tmp)\n",
    "\n",
    "##Se agrega al arreglo el gráfico de la\n",
    "#MatCk.append(plt.plot(a,C_infty(a),\"r--\"))\n",
    "ax.plot(a,C_infty(a),'r--')\n",
    "\n",
    "## Parametros para el formato del gráfico\n",
    "ax.legend([r'$C_1$',r'$C_\\infty$'])\n",
    "ax.set_ylabel(r\"Compacidad $C$\")\n",
    "ax.set_xlabel(r'$\\alpha$')\n",
    "#fig.set_figheight(8)\n",
    "#fig.set_figwidth(10)\n",
    "#ax.legend(r'$C_1$',r'$C_\\infty$')\n",
    "\n",
    "## Para guardar la gráfica en un archivo\n",
    "image_format = 'svg' # e.g .png, .svg, etc.\n",
    "image_name = 'Plot_C_01.svg'\n",
    "\n",
    "plt.savefig(image_name)\n",
    "plt.show()"
   ]
  },
  {
   "cell_type": "markdown",
   "id": "7b7771e4",
   "metadata": {},
   "source": [
    "En la gráfica anterior se muestra la compacidad del primer cascarón (línea continua azul) y el caso límite donde hubiera infinitos cascarones (linea discontinua roja). Y todos los casos intermedios se encuentran entre estas dos líneas, permitiendo discernir que el aumento de cascarones disminuye la compacidad."
   ]
  },
  {
   "cell_type": "markdown",
   "id": "9b05f254",
   "metadata": {},
   "source": [
    "Ahora se escriben las componentes de la matriz\n",
    "$$\n",
    "\\mathbb{S}\\equiv\\mathbb{M}_N\\mathbb{M}_{N-1}\\cdots\\mathbb{M}_1 \n",
    "= \\mathbb{1} + \\frac{A}{4 i\\tilde{\\omega} } \\sum_{k=1}^{N} \\frac{1}{k}\\left(\\frac{C_k}{2} - \\frac{k-1}{k}C_{k-1}\\right)    \\\\ \\times\n",
    "\\left(\\begin{array}{cc}\n",
    "1 & \\left(e^{-2 i k\\tilde{\\omega} }-2i k\\tilde{\\omega}  E_2(2i k \\tilde{\\omega} )\\right) \\prod_{l=1}^{k-1} \n",
    "Exp \\left(\\frac{i l \\tilde{\\omega}  C_{l} \\log{\\left(\\frac{1+\\frac{1}{l}-C_{l}}{1-C_{l}}\\right)}}{2}\\right)\\\\\n",
    "-\\left(e^{2 i k\\tilde{\\omega} }+2i k\\tilde{\\omega}  E_2(-2i k \\tilde{\\omega} )\\right) \\prod_{l=1}^{k-1} \n",
    "Exp \\left(\\frac{-i l \\tilde{\\omega}  C_{l} \\log{\\left(\\frac{1+\\frac{1}{l}-C_{l}}{1-C_{l}}\\right)}}{2}\\right) & -1\n",
    "\\end{array}\\right)\n",
    "$$"
   ]
  },
  {
   "cell_type": "markdown",
   "id": "599057e9",
   "metadata": {},
   "source": [
    "En donde \n",
    "$$\n",
    "S(1,1) = 1 + \\frac{A}{4i \\tilde{\\omega} }\\sum_{k=1}\\frac{1}{k}\\left(\\frac{C_k}{2}-\\frac{k-1}{k}C_{k-1}\\right), \\\\\n",
    "S(2,2) = \\overline{S(1,1)}= -1 + \\frac{A}{4i\\tilde{\\omega}}\\sum_{k=1}\\frac{1}{k} \\left(\\frac{C_k}{2}-\\frac{k-1}{k}C_{k-1}\\right), \\\\\n",
    "S(1,2) = 1 + \\frac{A}{4i \\tilde{\\omega} }\\sum_{k=1} \\frac{1}{k}\\left(\\frac{C_k}{2}-\\frac{k-1}{k}C_{k-1}\\right)\\times\n",
    "\\left(e^{-2 i k \\tilde{\\omega} }-2i k \\tilde{\\omega} E_2(2i k \\tilde{\\omega} )\\right) \\prod_{l=1}^{k-1} \n",
    "Exp \\left(\\frac{i l \\tilde{\\omega} C_{l} \\log{\\left(\\frac{1+\\frac{1}{l}-C_{l}}{1-C_{l}}\\right)}}{2}\\right),\\\\\n",
    "S(2,1) = \\overline{S(1,2)}   .\n",
    "$$"
   ]
  },
  {
   "cell_type": "markdown",
   "id": "4c261016",
   "metadata": {},
   "source": [
    "Se define la exponencial integral\n",
    "$$\n",
    "    E_p(z) := \\int_{1}^{\\infty}\\frac{e^{-zt}}{t^p}dt    .\n",
    "$$\n",
    "Sin embargo la integral-exponencial esta definida para valores complejos en las librerias [\"mpmath\"](https://mpmath.org/doc/current/functions/expintegrals.html), con el comando: mpmath.expint(p,z)"
   ]
  },
  {
   "cell_type": "code",
   "execution_count": 8,
   "id": "e6930b6c",
   "metadata": {},
   "outputs": [],
   "source": [
    "def integrand(t,p,z):\n",
    "    return np.exp(-z*t) / t**p\n",
    "def expint(p,z):\n",
    "    return quad(integrand, 1, np.inf, args=(p, z))[0]"
   ]
  },
  {
   "cell_type": "markdown",
   "id": "f573ec6d",
   "metadata": {},
   "source": [
    "$$\n",
    "S(1,1) = 1 + \\frac{A}{4i \\tilde{\\omega} }\\sum_{k=1}\\frac{1}{k}\\left(\\frac{C_k}{2}-\\frac{k-1}{k}C_{k-1}\\right)\n",
    "$$"
   ]
  },
  {
   "cell_type": "code",
   "execution_count": 9,
   "id": "f5e803ba",
   "metadata": {},
   "outputs": [],
   "source": [
    "def S11(k,A,a,w_):\n",
    "    tmp = 1\n",
    "    for n in range(1,k+1):\n",
    "        tmp += (A*(C_k(a,n)/2 - ((n-1)/n)*C_k(a,n-1)))/(n*4*1j*w_)\n",
    "    return tmp"
   ]
  },
  {
   "cell_type": "code",
   "execution_count": 10,
   "id": "14740047",
   "metadata": {},
   "outputs": [],
   "source": [
    "## linespace(a,b,D) es un comando que te crea un vector en el intervalo (a,b) en un número de divisiones D,\n",
    "## esto linealmente espaciados, (existe comandos logspace en ese caso serían logarimicamente espaciados)\n",
    "w = np.linspace(1e-4,1,200)        #frecuencia\n",
    "vecS11 = []        #Arreglo que guarda los valores de S_11 por cada frecuencia\n",
    "## Ciclo para llenar el vector S_11\n",
    "for w_ in w:\n",
    "    vecS11.append(1/mpmath.mp.norm(S11(100,2,0.1,w_)))\n",
    "#    vecS12.append(S12(100,w_tmp,2,0.1,5))"
   ]
  },
  {
   "cell_type": "code",
   "execution_count": 11,
   "id": "902e48d4",
   "metadata": {},
   "outputs": [
    {
     "data": {
      "image/png": "[encoded data removed]",
      "text/plain": [
       "<Figure size 720x576 with 1 Axes>"
      ]
     },
     "metadata": {
      "needs_background": "light"
     },
     "output_type": "display_data"
    }
   ],
   "source": [
    "## Parametros para llenar el vector\n",
    "plt.plot(w,vecS11)\n",
    "plt.xlabel(r'$\\tilde{\\omega}$')\n",
    "plt.ylabel(r'Coeficiente de transmisión: $T=\\frac{1}{||S_{11}||}$')\n",
    "\n",
    "plt.show()"
   ]
  },
  {
   "cell_type": "markdown",
   "id": "abf1f227",
   "metadata": {},
   "source": [
    "$$\n",
    "S(1,2) = 1 + \\frac{A}{4i \\tilde{\\omega} }\\sum_{k=1}\\frac{1}{k}\\left(\\frac{C_k}{2}-\\frac{k-1}{k}C_{k-1}\\right)\\times\n",
    "\\left(e^{-2i k \\tilde{\\omega} }-2i k \\tilde{\\omega} E_2(2i k \\tilde{\\omega} )\\right) \\prod_{l=1}^{k-1} \n",
    "Exp \\left(\\frac{i l \\tilde{\\omega} C_{l} \\log{\\left(\\frac{1+\\frac{1}{l}-C_{l}}{1-C_{,l}}\\right)}}{2}\\right)\n",
    "$$"
   ]
  },
  {
   "cell_type": "code",
   "execution_count": 12,
   "id": "3cfae61a",
   "metadata": {},
   "outputs": [],
   "source": [
    "def S12(k,A,a,w_):\n",
    "    tmp = 1\n",
    "    tmp3 = 1 \n",
    "    for n in range(1,k+1):\n",
    "        tmp1 = A*(C_k(a,n)/2 - ((n-1)/n)*C_k(a,n-1))/(4*1j*n*w_)\n",
    "        ## Condicional para hacer la multiplicatoria y hacerla en transcurso del ciclo principal\n",
    "        if n >= 2:\n",
    "            tmp4 = ( 1 + 1/(n-1) - C_k(a,n-1) )/( 1-C_k(a,n-1) )\n",
    "            tmp3 *= np.exp( 1j*w_*(n-1)*C_k(a,n-1)*np.log(tmp4)/2 )\n",
    "#        tmp3 = 1\n",
    "#        for l in range(1,n): ## Como el rango corre de 1...n-1. Y como debe ser n-1\n",
    "#            tmp4 = ( 1 + 1/l - C_k(a,l) )/( 1-C_k(a,l) )\n",
    "#            tmp3 *= np.exp( 1j*w*l*C_k(a,l)*np.log(tmp4)/2 )\n",
    "        tmp2 = ( np.exp( -2j*k*w_) - 2j*w_*k*mpmath.expint(2,2j*k*w_) )*tmp3\n",
    "        tmp += tmp1 * tmp2\n",
    "    return tmp"
   ]
  },
  {
   "cell_type": "code",
   "execution_count": 13,
   "id": "619ad335",
   "metadata": {},
   "outputs": [],
   "source": [
    "w = np.linspace(1e-4,2,200)\n",
    "vecS12 = []\n",
    "for w_ in w:\n",
    "#    vecS12.append(1/mpmath.mp.norm(S12(20,w_tmp,2,0.1,1)))\n",
    "    vecS12.append(S12(20,2,0.1,w_).real)\n",
    "#    vecS12.append(S12(100,w_tmp,2,0.1,5))"
   ]
  },
  {
   "cell_type": "code",
   "execution_count": 15,
   "id": "f3f1920e",
   "metadata": {},
   "outputs": [
    {
     "data": {
      "image/png": "[encoded data removed]",
      "text/plain": [
       "<Figure size 720x576 with 1 Axes>"
      ]
     },
     "metadata": {
      "needs_background": "light"
     },
     "output_type": "display_data"
    }
   ],
   "source": [
    "plt.plot(w,vecS12)\n",
    "plt.xlabel(r'$\\tilde{\\omega}$')\n",
    "plt.ylabel(r'$S_{12}$')\n",
    "\n",
    "plt.show()"
   ]
  },
  {
   "cell_type": "code",
   "execution_count": null,
   "id": "2bd67061",
   "metadata": {},
   "outputs": [],
   "source": []
  }
 ],
 "metadata": {
  "kernelspec": {
   "display_name": "Python 3 (ipykernel)",
   "language": "python",
   "name": "python3"
  },
  "language_info": {
   "codemirror_mode": {
    "name": "ipython",
    "version": 3
   },
   "file_extension": ".py",
   "mimetype": "text/x-python",
   "name": "python",
   "nbconvert_exporter": "python",
   "pygments_lexer": "ipython3",
   "version": "3.10.5"
  }
 },
 "nbformat": 4,
 "nbformat_minor": 5
}
